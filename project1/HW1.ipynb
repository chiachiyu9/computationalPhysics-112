{
 "cells": [
  {
   "cell_type": "code",
   "execution_count": null,
   "metadata": {},
   "outputs": [],
   "source": [
    "import numpy as np\n",
    "import matplotlib.pyplot as plt\n",
    "import solver as mysolver\n",
    "import math"
   ]
  },
  {
   "cell_type": "markdown",
   "metadata": {},
   "source": [
    "# Problem 1\n",
    "The equation is\n",
    "$\\ddot{x}+2\\gamma\\dot{x}+\\omega_0^2 x=0$, \n",
    "with initial conditions $x(0)=0,\\ \\dot{x}(0)=\\sqrt{0.96},\\ \\omega_0=1$,\n",
    "\n",
    "$\\gamma=$ (a) 0.2, (b) 1.0, (c) 1.2"
   ]
  },
  {
   "cell_type": "code",
   "execution_count": null,
   "metadata": {},
   "outputs": [],
   "source": [
    "y0=np.array([0,np.sqrt(0.96)])\n",
    "\n",
    "def f(t,y,omega0,gamma):\n",
    "    yn=np.zeros(np.size(y0))\n",
    "    yn[0] = y[1]\n",
    "    yn[1] = -2*gamma*y[1]-omega0**2*y[0]\n",
    "    return yn"
   ]
  }
 ],
 "metadata": {
  "kernelspec": {
   "display_name": "comphys",
   "language": "python",
   "name": "python3"
  },
  "language_info": {
   "name": "python",
   "version": "3.11.7"
  }
 },
 "nbformat": 4,
 "nbformat_minor": 2
}
