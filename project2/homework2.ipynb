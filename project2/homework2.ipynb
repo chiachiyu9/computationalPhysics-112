{
 "cells": [
  {
   "cell_type": "code",
   "execution_count": 1,
   "metadata": {},
   "outputs": [],
   "source": [
    "import numpy as np\n",
    "import matplotlib.pyplot as plt\n",
    "from nbody import Particles, NBodySimulator\n",
    "from nbody import load_files, save_movie\n",
    "from numba import jit, njit, prange,set_num_threads, config\n",
    "import os"
   ]
  },
  {
   "cell_type": "code",
   "execution_count": 49,
   "metadata": {},
   "outputs": [],
   "source": [
    "# Set the number of threads to use for numba\n",
    "nthreads = 8\n",
    "set_num_threads(nthreads)\n",
    "# initial conditions\n",
    "np.random.seed(0) #fix random\n",
    "N = 1000\n",
    "pts = Particles(N)\n",
    "pts.r = np.random.randn(N,3)\n",
    "pts.v = np.random.randn(N,3)\n",
    "pts.a = np.random.randn(N,3)\n",
    "pts.m = np.ones((N, 1))* 20/N\n",
    "dt = 0.01\n",
    "freq = int(0.1/dt)\n",
    "\n",
    "simulation = NBodySimulator(particles=pts)\n",
    "simulation.setup(G=1,\n",
    "                 rsoft=0.01,\n",
    "                 method='RK4', \n",
    "                 io_freq=freq,\n",
    "                 io_screen=False,\n",
    "                 visualization=False, \n",
    "                 io_header=\"nbody_video\")\n"
   ]
  },
  {
   "cell_type": "code",
   "execution_count": 36,
   "metadata": {},
   "outputs": [],
   "source": [
    "accs = simulation._calculate_a(N, pts.m, pts.r)"
   ]
  },
  {
   "cell_type": "code",
   "execution_count": 20,
   "metadata": {},
   "outputs": [],
   "source": [
    "pts = simulation._advance_particles_RK4(dt, pts)"
   ]
  },
  {
   "cell_type": "code",
   "execution_count": 38,
   "metadata": {},
   "outputs": [],
   "source": [
    "N = pts.N\n",
    "ms = pts.m\n",
    "\n",
    "# k1\n",
    "rs = pts.r\n",
    "vs = pts.v\n",
    "accs = simulation._calculate_a(N, ms, rs)\n",
    "\n",
    "# k2\n",
    "rs2 = rs + 0.5 * dt * vs\n",
    "vs2 = vs + 0.5 * dt * accs\n",
    "#accs2 = simulation._calculate_a(N, ms, rs2)"
   ]
  },
  {
   "cell_type": "code",
   "execution_count": 37,
   "metadata": {},
   "outputs": [
    {
     "name": "stdout",
     "output_type": "stream",
     "text": [
      "91.3 ms ± 3.6 ms per loop (mean ± std. dev. of 7 runs, 10 loops each)\n"
     ]
    }
   ],
   "source": [
    "%timeit simulation.evolve(dt=0.02, tf=0.2)"
   ]
  },
  {
   "cell_type": "code",
   "execution_count": null,
   "metadata": {},
   "outputs": [],
   "source": [
    "fns = load_files('nbody')\n",
    "au = 1\n",
    "save_movie(fns, lengthscale=2*au,filename='nbody.mp4', fps=10)"
   ]
  },
  {
   "cell_type": "code",
   "execution_count": null,
   "metadata": {},
   "outputs": [],
   "source": [
    "print(pts.a[0,0])\n",
    "print(type(pts.a[0,0]))"
   ]
  },
  {
   "cell_type": "code",
   "execution_count": null,
   "metadata": {},
   "outputs": [],
   "source": [
    "au = 1.496e11\n",
    "save_movie(fns, lengthscale=2*au,filename='nbody.mp4', fps=10)"
   ]
  },
  {
   "cell_type": "code",
   "execution_count": null,
   "metadata": {},
   "outputs": [],
   "source": [
    "N=5\n",
    "x = np.zeros((N,3))\n",
    "x[:,0]=np.arange(N)\n",
    "acc = np.zeros_like(x)\n",
    "G=1\n",
    "rsoft=0\n",
    "m = np.ones(N)[:,np.newaxis]\n",
    "m[-3:]=2\n",
    "#print(m.T)\n",
    "# distance and direction\n",
    "# masses: (N,1) matrix\n",
    "\n",
    "for i in prange(N-1):\n",
    "    R=np.zeros((N-i-1,3))\n",
    "    for j in prange(N):\n",
    "        if j > i:\n",
    "            #print(True,j,x[j,:])\n",
    "            rij = x[i, :] - x[j, :]\n",
    "            r = np.sqrt(np.sum(rij**2) + rsoft**2)\n",
    "            R[j-i-1,:]=rij\n",
    "            # notice direction, and masses[i] is an array with one element.\n",
    "            Fi = -G * m[i, 0] * m[j, 0] * rij / r**3\n",
    "            #print(Fi)\n",
    "            acc[i, :] += Fi / m[i, 0]\n",
    "            acc[j, :] -= Fi / m[j, 0]\n",
    "    #print(i)\n",
    "    #print(R)\n",
    "\n",
    "acc1 = np.zeros_like(x)\n",
    "for i in prange(N-1):\n",
    "    nj = N-i-1\n",
    "    j=np.arange(i+1,N)\n",
    "    xi = x[i,:]*np.ones((nj,3))\n",
    "    xj = x[i+1:,:]\n",
    "    rij = xi - xj\n",
    "    r = np.sqrt(np.sum(rij**2,axis=1) + rsoft**2)[:,np.newaxis]\n",
    "    #print(rij)\n",
    "    Fij = -G * m[i,0]*m[i+1:,0][:,np.newaxis] * rij / r**3\n",
    "    #print(Fij)\n",
    "    acc1[i, :] += np.sum(Fij,axis=0) / m[i, 0]\n",
    "    acc1[i+1:, :] -= Fij / m[i+1:, 0][:,np.newaxis]\n",
    "\n",
    "acc2 = np.zeros_like(x)\n",
    "rij = x[:, np.newaxis, :] - x[np.newaxis, :, :] # rij=xi-xj\n",
    "r= np.sqrt(np.sum(rij**2,axis=2))\n",
    "np.fill_diagonal(r,1.)  # prevent ZeroDivisionError\n",
    "# aij[i,j,:]是i受j影響產生的加速度\n",
    "Fij = -G* np.outer(m[:,0], m[:,0])[:, :, np.newaxis] * rij / r[:,:,np.newaxis]**3\n",
    "ai = np.sum(Fij,axis=1)/m\n",
    "\n",
    "\n",
    "print(r)\n",
    "print(m[:,0])\n",
    "print(Fij[:,:,0])\n",
    "print(acc[:,0].T)\n",
    "print(acc1[:,0].T)\n",
    "print(ai[:,0])\n",
    "#print(m.T)"
   ]
  },
  {
   "cell_type": "code",
   "execution_count": 21,
   "metadata": {},
   "outputs": [],
   "source": [
    "N=10000\n",
    "x = np.zeros((N,3))\n",
    "x[:,0]=np.arange(N)\n",
    "acc = np.zeros_like(x)\n",
    "G=1\n",
    "rsoft=0.01\n",
    "m = np.ones(N)[:,np.newaxis]\n",
    "m[-3:]=2\n"
   ]
  },
  {
   "cell_type": "code",
   "execution_count": null,
   "metadata": {},
   "outputs": [],
   "source": [
    "import time\n",
    "\n",
    "def r_g(x,rsoft):\n",
    "    rij = x[:, np.newaxis, :] - x[np.newaxis, :, :] # rij=xi-xj\n",
    "    r= np.sqrt(np.sum(rij**2,axis=2)+rsoft**2)\n",
    "    np.fill_diagonal(r,1.)  # prevent ZeroDivisionError\n",
    "    return(rij,r)\n",
    "\n",
    "rij, r = r_g(x,rsoft)\n",
    "def acc_numpy(m,x,rsoft,G):\n",
    "    rij = x[:, np.newaxis, :] - x[np.newaxis, :, :]  # rij=xi-xj\n",
    "    r = np.sqrt(np.sum(rij**2, axis=2) + rsoft**2)\n",
    "    np.fill_diagonal(r, 1.0)  # prevent ZeroDivisionError\n",
    "    # aij[i,j,:]是i受j影響產生的加速度\n",
    "    Fij = -G* np.outer(m[:,0], m[:,0])[:, :, np.newaxis] * rij / r[:,:,np.newaxis]**3\n",
    "    ai = np.sum(Fij,axis=1)/m\n",
    "    return ai\n",
    "\n",
    "@njit    \n",
    "def acc_jit(N, m, x,rsoft, G):\n",
    "    rij = x[:, np.newaxis, :] - x[np.newaxis, :, :]  # rij=xi-xj\n",
    "    r = np.sqrt(np.sum(rij**2, axis=2) + rsoft**2)\n",
    "    np.fill_diagonal(r, 1.0)  # prevent ZeroDivisionError\n",
    "\n",
    "    acc = np.zeros((N, 3))\n",
    "\n",
    "    for i in prange(N):\n",
    "        for j in prange(i + 1, N):\n",
    "            acc[i] += -G * m[j, 0] * rij[i, j, :] / (r[i, j] ** 3)\n",
    "            acc[j] += -G * m[i, 0] * rij[j, i, :] / (r[i, j] ** 3)\n",
    "    \n",
    "    return acc\n",
    "\n",
    "@njit    \n",
    "def acc_jit2(N, m, rr,rsoft, G):\n",
    "    x = rr[:,0].copy()\n",
    "    y = rr[:,1].copy()\n",
    "    z = rr[:,2].copy()\n",
    "    mass = m[:,0].copy()\n",
    "\n",
    "    acc = np.empty((N, 3), rr.dtype)\n",
    "\n",
    "    for i in prange(N):\n",
    "        ax = 0; ay = 0; az = 0\n",
    "        for j in prange(N):\n",
    "            if j != i:\n",
    "                dx = x[j] - x[i]\n",
    "                dy = y[j] - y[i]\n",
    "                dz = z[j] - z[i]\n",
    "                \n",
    "                tmp = (dx**2 + dy**2 + dz**2 + rsoft**2)\n",
    "                factor = mass[j] / (tmp * np.sqrt(tmp))\n",
    "                \n",
    "                ax += dx * factor\n",
    "                ay += dy * factor\n",
    "                az += dz * factor\n",
    "            \n",
    "        acc[i, 0] = G * ax\n",
    "        acc[i, 1] = G * ay\n",
    "        acc[i, 2] = G * az\n",
    "    \n",
    "    return acc\n",
    "\n",
    "t0 = time.time()\n",
    "acc = acc_numpy(m,x,rsoft,G)\n",
    "t1 = time.time()\n",
    "acc_j = acc_jit(N,m,x,rsoft,G)\n",
    "t2 = time.time()\n",
    "acc_j2 = acc_jit2(N,m,x,rsoft,G)\n",
    "t3 = time.time()\n",
    "print(t1-t0, t2-t1,t3-t2)\n",
    "#%timeit r_g(x,rsoft)\n",
    "#%timeit acc_numpy(m,rij,r,G)\n"
   ]
  },
  {
   "cell_type": "code",
   "execution_count": null,
   "metadata": {},
   "outputs": [],
   "source": [
    "%timeit acc_numpy(m,x,rsoft,G)\n",
    "%timeit acc_jit(N,m,x,rsoft,G)\n",
    "%timeit acc_jit2(N,m,x,rsoft,G)"
   ]
  },
  {
   "cell_type": "code",
   "execution_count": null,
   "metadata": {},
   "outputs": [],
   "source": [
    "A = 940e-6/7/1000\n",
    "B = 1.78e-3/7/1\n",
    "C = 41.9e-6/7/10000\n",
    "print(A,B,C,(A+B+C)/60)"
   ]
  },
  {
   "cell_type": "code",
   "execution_count": 23,
   "metadata": {},
   "outputs": [
    {
     "name": "stdout",
     "output_type": "stream",
     "text": [
      "(3, 10000, 3)\n"
     ]
    }
   ],
   "source": [
    "A = np.array([x,x,x])\n",
    "print(A.shape)"
   ]
  },
  {
   "cell_type": "markdown",
   "metadata": {},
   "source": [
    "10.2 µs ± 440 ns per loop (mean ± std. dev. of 7 runs, 100,000 loops each)\n",
    "\n",
    "6.95 µs ± 147 ns per loop (mean ± std. dev. of 7 runs, 100,000 loops each)"
   ]
  },
  {
   "cell_type": "code",
   "execution_count": null,
   "metadata": {},
   "outputs": [],
   "source": [
    "import math\n",
    "N=5\n",
    "x = np.zeros((N,3))\n",
    "x[:,0]=np.arange(N)\n",
    "acc = np.zeros_like(x)\n",
    "G=1\n",
    "rsoft=0.01\n",
    "m = np.ones(N)[:,np.newaxis]\n",
    "m[-3:]=2\n",
    "\n",
    "def r_g(x,rsoft):\n",
    "    rij = x[:, np.newaxis, :] - x[np.newaxis, :, :] # rij=xi-xj\n",
    "    r= np.sqrt(np.sum(rij**2,axis=2)+rsoft**2)\n",
    "    np.fill_diagonal(r,1.)  # prevent ZeroDivisionError\n",
    "    return(rij,r)\n",
    "\n",
    "@njit(parallel=True)\n",
    "def r_j(x,rsoft,N):\n",
    "    rij=np.zeros((N,N,3))\n",
    "    r=np.zeros((N,N))\n",
    "    for i in prange(N):\n",
    "        for j in prange(N):\n",
    "            rij[i,j,:]=x[i,:]-x[j,:]\n",
    "            tem = rij[i,j,0]**2+rij[i,j,1]**2+rij[i,j,2]**2+rsoft**2\n",
    "            r[i,j] = math.sqrt(tem)\n",
    "    return(rij,r)"
   ]
  },
  {
   "cell_type": "code",
   "execution_count": 41,
   "metadata": {},
   "outputs": [
    {
     "name": "stdout",
     "output_type": "stream",
     "text": [
      "(1000, 3)\n"
     ]
    }
   ],
   "source": [
    "print(pts.r[:,:].shape)"
   ]
  },
  {
   "cell_type": "code",
   "execution_count": 50,
   "metadata": {},
   "outputs": [],
   "source": [
    "import math\n",
    "G=1\n",
    "rsoft=0.01\n",
    "x = pts.r\n",
    "m=pts.m\n",
    "\n",
    "rij = x[:, np.newaxis, :] - x[np.newaxis, :, :] # rij=xi-xj\n",
    "r= np.sqrt(np.sum(rij**2,axis=2)+rsoft**2)\n",
    "\n",
    "R=[]\n",
    "for i in range(N):\n",
    "    for j in range(i+1,N):\n",
    "        R.append(r[i,j])\n",
    "\n"
   ]
  },
  {
   "cell_type": "code",
   "execution_count": 57,
   "metadata": {},
   "outputs": [
    {
     "data": {
      "text/plain": [
       "<Figure size 640x480 with 0 Axes>"
      ]
     },
     "execution_count": 57,
     "metadata": {},
     "output_type": "execute_result"
    },
    {
     "data": {
      "image/png": "[encoded data removed]",
      "text/plain": [
       "<Figure size 640x480 with 1 Axes>"
      ]
     },
     "metadata": {},
     "output_type": "display_data"
    },
    {
     "data": {
      "text/plain": [
       "<Figure size 640x480 with 0 Axes>"
      ]
     },
     "metadata": {},
     "output_type": "display_data"
    }
   ],
   "source": [
    "plt.figure(1)\n",
    "r0 = np.linspace(5,6,1000)\n",
    "a0 = G*m[0,0]/(r0**2+rsoft**2)\n",
    "plt.plot(r0,a0)\n",
    "\n",
    "plt.figure(2)\n",
    "#plt.hist(R,bins=100)\n",
    "#plt.yticks(np.array([N*(N-1)/2]))"
   ]
  },
  {
   "cell_type": "code",
   "execution_count": null,
   "metadata": {},
   "outputs": [],
   "source": []
  }
 ],
 "metadata": {
  "kernelspec": {
   "display_name": "comphys",
   "language": "python",
   "name": "python3"
  },
  "language_info": {
   "codemirror_mode": {
    "name": "ipython",
    "version": 3
   },
   "file_extension": ".py",
   "mimetype": "text/x-python",
   "name": "python",
   "nbconvert_exporter": "python",
   "pygments_lexer": "ipython3",
   "version": "3.11.7"
  }
 },
 "nbformat": 4,
 "nbformat_minor": 2
}
